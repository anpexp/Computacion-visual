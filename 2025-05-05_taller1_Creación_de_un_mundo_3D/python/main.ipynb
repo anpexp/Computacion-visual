{
 "cells": [
  {
   "cell_type": "code",
   "execution_count": null,
   "id": "faf74587",
   "metadata": {},
   "outputs": [
    {
     "ename": "AssertionError",
     "evalue": "El archivo modelo.stl no existe",
     "output_type": "error",
     "traceback": [
      "\u001b[31m---------------------------------------------------------------------------\u001b[39m",
      "\u001b[31mAssertionError\u001b[39m                            Traceback (most recent call last)",
      "\u001b[36mCell\u001b[39m\u001b[36m \u001b[39m\u001b[32mIn[6]\u001b[39m\u001b[32m, line 8\u001b[39m\n\u001b[32m      6\u001b[39m \u001b[38;5;28;01mfrom\u001b[39;00m\u001b[38;5;250m \u001b[39m\u001b[34;01mIPython\u001b[39;00m\u001b[34;01m.\u001b[39;00m\u001b[34;01mdisplay\u001b[39;00m\u001b[38;5;250m \u001b[39m\u001b[38;5;28;01mimport\u001b[39;00m HTML\n\u001b[32m      7\u001b[39m \u001b[38;5;28;01mimport\u001b[39;00m\u001b[38;5;250m \u001b[39m\u001b[34;01mos\u001b[39;00m\n\u001b[32m----> \u001b[39m\u001b[32m8\u001b[39m \u001b[38;5;28;01massert\u001b[39;00m os.path.exists(\u001b[33m\"\u001b[39m\u001b[33mmodelo.stl\u001b[39m\u001b[33m\"\u001b[39m), \u001b[33m\"\u001b[39m\u001b[33mEl archivo modelo.stl no existe\u001b[39m\u001b[33m\"\u001b[39m\n\u001b[32m     10\u001b[39m \u001b[38;5;66;03m# Cargar modelo 3D\u001b[39;00m\n\u001b[32m     11\u001b[39m mesh = trimesh.load(\u001b[33m'\u001b[39m\u001b[33mmodelo.stl\u001b[39m\u001b[33m'\u001b[39m)  \u001b[38;5;66;03m# Puede ser .obj, .stl, o .gltf\u001b[39;00m\n",
      "\u001b[31mAssertionError\u001b[39m: El archivo modelo.stl no existe"
     ]
    }
   ],
   "source": [
    "\n",
    "\n",
    "import trimesh\n",
    "import vedo\n",
    "from vedo import Plotter, Video\n",
    "import numpy as np\n",
    "import matplotlib.pyplot as plt\n",
    "from IPython.display import HTML\n",
    "\n",
    "# Cargar modelo 3D\n",
    "mesh = trimesh.load('model.stl')  # Puede ser .obj, .stl, o .gltf\n",
    "\n",
    "# Convertir a vedo para visualización\n",
    "vedo_mesh = vedo.Mesh([mesh.vertices, mesh.faces]).lighting('glossy')\n",
    "\n",
    "# Configurar plotter\n",
    "plt = Plotter(axes=1, bg='white', size=(1000, 800))\n",
    "\n",
    "# Visualizar componentes con colores distintos\n",
    "vedo_mesh.c('cyan').alpha(0.5)  # Caras semitransparentes\n",
    "edges = vedo_mesh.edges().c('black').lw(1)  # Aristas\n",
    "vertices = vedo_mesh.points().c('red').ps(8)  # Vértices\n",
    "\n",
    "# Mostrar información estructural\n",
    "info = f\"\"\"\n",
    "Información del modelo:\n",
    "- Vértices: {len(mesh.vertices)}\n",
    "- Caras: {len(mesh.faces)}\n",
    "- Aristas: {len(mesh.edges)}\n",
    "- Volumen: {mesh.volume:.2f} unidades³\n",
    "- Bounding box: {mesh.bounds}\n",
    "\"\"\"\n",
    "\n",
    "# Mostrar todo en el plotter\n",
    "plt.show(vedo_mesh, edges, vertices, \n",
    "         vedo.Text2D(info, pos='bottom-left', c='k'), \n",
    "         \"Visualización 3D con Componentes Estructurales\")\n",
    "\n",
    "# Opcional: Generar animación rotativa\n",
    "def setup_scene():\n",
    "    vedo_mesh.rotate_x(30).rotate_z(20)\n",
    "    return [vedo_mesh, edges, vertices]\n",
    "\n",
    "video = Video(\"animation.mp4\", duration=10, fps=15)\n",
    "for i in range(0, 360, 2):\n",
    "    vedo_mesh.rotate_y(2)\n",
    "    video.add_frame()\n",
    "video.close()\n",
    "\n",
    "# Mostrar GIF en el notebook\n",
    "HTML(\"\"\"\n",
    "<video width=\"800\" controls autoplay loop>\n",
    "  <source src=\"animation.mp4\" type=\"video/mp4\">\n",
    "</video>\n",
    "\"\"\")"
   ]
  }
 ],
 "metadata": {
  "kernelspec": {
   "display_name": "Python 3",
   "language": "python",
   "name": "python3"
  },
  "language_info": {
   "codemirror_mode": {
    "name": "ipython",
    "version": 3
   },
   "file_extension": ".py",
   "mimetype": "text/x-python",
   "name": "python",
   "nbconvert_exporter": "python",
   "pygments_lexer": "ipython3",
   "version": "3.12.9"
  }
 },
 "nbformat": 4,
 "nbformat_minor": 5
}
